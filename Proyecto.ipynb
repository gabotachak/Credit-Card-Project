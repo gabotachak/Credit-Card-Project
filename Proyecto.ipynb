{
  "nbformat": 4,
  "nbformat_minor": 0,
  "metadata": {
    "colab": {
      "name": "Proyecto",
      "provenance": [],
      "collapsed_sections": [
        "6H8b_soyXXiX",
        "eST9cX0BXbL0",
        "f2HfoPR1oR9r",
        "aSCaNTxf-ofz"
      ]
    },
    "kernelspec": {
      "name": "python3",
      "display_name": "Python 3",
      "language": "python"
    }
  },
  "cells": [
    {
      "cell_type": "markdown",
      "metadata": {
        "id": "b3_iVUv-LNk7"
      },
      "source": [
        "# Proyecto final Matemáticas Discretas II\n",
        "# Gabriel Andres Anzola Tachak\n",
        "### <a href=\"https://colab.research.google.com/gist/gaanzola15/0275d943fd3a16808e60b3a1bccb97ba/proyecto.ipynb\">Link al Google Colabolatory original</a>"
      ]
    },
    {
      "cell_type": "markdown",
      "metadata": {
        "id": "6H8b_soyXXiX"
      },
      "source": [
        "## Introducción\n",
        "\n",
        "Las **tarjetas de crédito** utilizan un sistema numérico ingenioso que se verifica a sí mismo con el objetivo de saber si el número es válido o no y evitar errores en la digitación y dificultar su falsificación de parte de estafadores. Con este conocimiento se elaborará un programa que determine si un número de tarjeta de crédito es válido o no, además de generar algunos números que puedan ser posiblemente válidos. _Con fines demostrativos y sin recurrir en actividades ilegales claro está._\n",
        "\n",
        "Los falsificadores sabiendo estos métodos intentan crear clones de las tarjetas para engañar a los comerciantes y sitios web con el objetivo de obtener productos y servicios con dinero falso así que durante muchos años han creado métodos para intentar engañar a los sitios web proporcionando números con una estructura válida como la que veremos a continuación.\n",
        "\n",
        "Como también veremos, estos métodos no son infalibles y eran muy útiles en la época donde calcularlos era complicado y para nada práctico. Ahora con un programa como el que está más adelante se puede generar una tarjeta probablemente válida sin complicaciones así que la seguridad de estos números debería mejorar en el futuro."
      ]
    },
    {
      "cell_type": "markdown",
      "metadata": {
        "id": "eST9cX0BXbL0"
      },
      "source": [
        "## Breve historia de las tarjetas de crédito (y su seguridad):\n",
        "\n",
        "*   1865, Se crean las monedas de carga, prototipos de las tarjetas que conocemos hoy\n",
        "\n",
        "*   1891, American Express ofrece cheques para viajeros, una forma de pago más sencilla para turistas aceptada en algunos establacimientos.\n",
        "\n",
        "*   Poco a poco estos medios de pago que reemplazan al efectivo con un objeto se popularizaron en muchos comercios durante finales del siglo XIX.\n",
        "\n",
        "*   1899, Se reportó el primer caso de suplantación con una tarjeta de crédito cuando un hombre tiró su tarjeta a la basura sin querer y otro hizo un pago por $25 dólares.\n",
        "\n",
        "*   1914, Las tarjetas se popularizan en las tiendas departamentales a través de EE UU.\n",
        "\n",
        "*   1946, Biggins, un banquero de Brooklin, saca Charg-it, una tarjeta que le permitía a los clientes pagar a crédito las compras de su vecindario; esta tarjeta estaba atada a su cuenta bancaria.\n",
        "\n",
        "*   1954, Hans Peter Luhn, empleado de IBM, desarrolla el Algoritmo de Luhn basado en aritmética modular para determinar si un número dado es válido o no.\n",
        "\n",
        "*   1955, La primera patente de una máquina que acepta tarjetas de crédito: Una gasolinera.\n",
        "\n",
        "*   1966, Se crea Interbank; una asociación entre bancos para crear un sistema estandarizado para las tarjetas de crédito.\n",
        "\n",
        "*   1970, IBM crea la banda magnética para prevenir el fraude de tarjetas de los 60's\n",
        "\n",
        "*   2004, El auge de internet llevó a la creación de PCISSC (Estándares de seguridad de la industria de tarjetas de pago) el cual estableció el estandar: los *BIN* o *Número Identificador Bancario*, un número de 16 cifras con un formato específico"
      ]
    },
    {
      "cell_type": "markdown",
      "metadata": {
        "id": "aI-cHw3UXjpp"
      },
      "source": [
        "## Formato del Número identificador bancario o BIN:\n",
        "\n",
        "Cada tarjeta tiene un número de 16 o más cifras impreso en relieve en la parte delantera con el siguiente formato, el cual es conocido por muchas personas y un programador astuto puede usar para tanto verificar como crear tarjetas:\n",
        "\n",
        "<img src=\"https://www.bbva.com.co/content/dam/public-web/colombia/images/blog/tarjetas/cual-es-numero-de-tarjeta-de-credito.png.img.1600.1598289581557.png\" width=350>\n",
        "\n",
        "M | I | I | I |  | I | I | A | A |  | A | A | A | A |  | A | A | A | C\n",
        "-- | -- | -- | -- | -- | -- | -- | -- | -- | -- | -- | -- | -- | -- | -- | -- | -- | -- | --\n",
        "4 | 0 | 0 | 0 |  | 0 | 0 | 1 | 2 |  | 3 | 4 | 5 | 6 |  | 7 | 8 | 9 | 9\n",
        "\n",
        "Donde:"
      ]
    },
    {
      "cell_type": "markdown",
      "metadata": {
        "id": "Vl_CGqR-XmjV"
      },
      "source": [
        "*   El primer número de la tarjeta **M** es el *identificador mayor de industria* o *MII* que determina que clase de entidad expidió la tarjeta y está dado por la siguiente tabla:\n",
        "\n",
        "Número **M** | Uso\n",
        ":--: | :--:\n",
        "0 | ISO / TC 68 y otras asignaciones futuras de la industria\n",
        "1 | Aerolíneas\n",
        "2 | Aerolíneas y otras tareas futuras de la industria\n",
        "3 | Viajes y entretenimiento y bancario / financiero\n",
        "4 | Bancos y financiera\n",
        "5 | Bancos y financiera\n",
        "6 | Diseño de mercado y bancario / financiero\n",
        "7 | Petróleo y otras asignaciones de la industria futuras\n",
        "8 | Asistencia sanitaria, telecomunicaciones y otras asignaciones futuras de la industria\n",
        "9 | Trabajo Nacional"
      ]
    },
    {
      "cell_type": "markdown",
      "metadata": {
        "id": "bNWNMacRXpFB"
      },
      "source": [
        "*   Los siguientes **I** números que van hasta el sexto número identifican específicamente al emisor, país, tipo y el banco de la tarjeta. Algunos ejemplos de números **M** + **I**:\n",
        "\n",
        "Red de emisión\t| Números **M** + **I** asignados\n",
        ":--: | :--:\n",
        "American Express | 34XXXX, 371XXX\n",
        "Diners Club International |​ 300000 al 305999, 309XXX, 36XXXX, 380000 al 399999\n",
        "Diners Club United States & Canada | 54XXXX, 55XXXX\n",
        "Discover Card |\t6011XX, 622126 al 622925, 644000 al 649999, 65XXXX\n",
        "InterPayment | 636000 al 639999\n",
        "JCB\t| 352800 al 358999\n",
        "Maestro\t| 50XXXX, 560000 al 699999\n",
        "Dankort | 5019XX\n",
        "MasterCard | 222100 al 272099, 510000 al 559999\n",
        "Visa | 4XXXXX\n",
        "Visa Electron | 4026XX, 417500, 4405XX, 4508XX, 4844XX, 4913XX, 4917XX\n",
        "UATP | 1XXXXX\n",
        "| <sub><i>*X significa cualquier dígito $0 \\leq X \\leq 9$</i></sub>"
      ]
    },
    {
      "cell_type": "markdown",
      "metadata": {
        "id": "Ozk6FdbCYO2q"
      },
      "source": [
        "*   Los números **A** representan el código interno de la entidad para determinar al cliente propietario de la tarjeta y es único para cada una."
      ]
    },
    {
      "cell_type": "markdown",
      "metadata": {
        "id": "T-fFas-NLdXi"
      },
      "source": [
        "Entonces, el número 4000 0012 3456 789**C** corresponde a:\n",
        "\n",
        ">   Una tarjeta financiera ya que su primer número **M** es 4.\n",
        "    \n",
        ">   Una tarjeta emitida por Visa ya que los primeros números **M** + **I** son 4000 00\n",
        "\n",
        ">   Los números **A** son 12 3456 789 que determinan el código interno del propietario de la tarjeta.\n",
        "\n",
        "Pero falta un último dígito **C** para que sea válida y se usa la aritmética modular para crearlo: **El Algoritmo de Luhn**\n",
        "\n"
      ]
    },
    {
      "cell_type": "markdown",
      "metadata": {
        "id": "HBEEILJX-mXn"
      },
      "source": [
        "## Algoritmo de Luhn\n",
        "\n",
        "Fue creado por el científico de IBM, Hans Peter Luhn, con el objetivo de verificar que un número dado por un usuario sea válido. La fórmula es ámpliamante usada para validar números de tarjetas de crédito como en números de Seguridad Social post 2011 en Estados Unidos.\n",
        "\n",
        "Hoy en día, el Algoritmo de Luhn es un componente escencial en pagos electrónicos y es usado en la gran mayoría de tarjetas de crédito.\n",
        "\n",
        "#### Datos clave:\n",
        "\n",
        "*   Es una fórmula matemática desarrollada en los 50s.\n",
        "\n",
        "*   Es ámpliamente usada para verificar la autenticidad de números de identificación de todo tipo.\n",
        "\n",
        "*   En finanzas, ha ayudado a mejorar el proceso de pagos electrónicos al identificar rápidamente números de tarjetas de crédito mal ingresados.\n",
        "\n",
        "*   Para seguridad no es muy util, su uso principal es verificar que un número se haya ingresado correctamente"
      ]
    },
    {
      "cell_type": "markdown",
      "metadata": {
        "id": "f2HfoPR1oR9r"
      },
      "source": [
        "### ¿Cómo verificar un número con el Algoritmo de Luhn?\n",
        "\n",
        "Para demostrar si un número es válido, se va a tomar la siguiente tarjeta de prueba que tiene un número válido:\n",
        "\n",
        "<img src=\"https://www.bbva.com.co/content/dam/public-web/colombia/images/blog/tarjetas/cual-es-numero-de-tarjeta-de-credito.png.img.1600.1598289581557.png\" width=350>\n",
        "\n",
        "Tomando los números de derecha a izquierda, se multiplican por $2$ los números en posición par y si el resultado de esa multiplicación es mayor a $9$, se suman los números que conforman el resultado.\n",
        "\n",
        "Por ejemplo: $9 \\times 2 = 18$, así que se toma $1+8 = 9$.\n",
        "\n",
        "<br>\n",
        "\n",
        "Número: | 4 | 0 | 0 | 0 |  | 0 | 0 | 1 | 2 |  | 3 | 4 | 5 | 6 |  | 7 | 8 | 9 | 9\n",
        ":--: | :--: | :--: | :--: | :--: | :--: | :--: | :--: | :--: | :--: | :--: | :--: | :--: | :--: | :--: | :--: | :--: | :--: | :--: | :--:\n",
        "Posición: | 16 | 15 | 14 | 13 | | 12 | 11 | 10 | 9 | | 8 | 7 | 6 | 5 | | 4 | 3 | 2 | 1\n",
        "¿Se multiplican por $2$? | Sí | No | Sí | No | | Sí | No | Sí | No | | Sí | No | Sí | No | | Sí | No | Sí | No \n",
        "Resultado<br>multiplicación: | 8 | 0 | 0 | 0 | | 0 | 0 | 2 | 2 | | 6 | 4 | 10<br>(1+0) | 6 | | 14<br>(1+4) | 8 | 18<br>(1+8) | 9 \n",
        "Suma de resultados<br>mayores a 9: | 8 | 0 | 0 | 0 | | 0 | 0 | 2 | 2 | | 6 | 4 | 1 | 6 | | 5 | 8 | 9 | 9 \n",
        "\n",
        "<br>\n",
        "\n",
        "Se suman todos los resultados del paso anterior, si el resultado de la suma $x$ cumple con $x \\equiv 0 \\mod 10$, es un número válido.\n",
        "\n",
        "En este caso,\n",
        "\n",
        "$$8 + 0 + 0 + 0 + 0 + 0 + 2 + 2 + 6 + 4 + 1 + 6 + 5 + 8 + 9 + 9 = 60 \\equiv 0 \\mod 10$$\n",
        "\n",
        "Así se demuestra que el número es válido."
      ]
    },
    {
      "cell_type": "markdown",
      "metadata": {
        "id": "aSCaNTxf-ofz"
      },
      "source": [
        "### ¿Cómo crear un dígito de verificación **C** con el Algoritmo de Luhn?\n",
        "\n",
        "Para crear un dígito de verificación **C**, al igual que en el procedimiento anterior, se va a tomar la siguiente tarjeta de prueba:\n",
        "\n",
        "<img src=\"https://www.bbva.com.co/content/dam/public-web/colombia/images/blog/tarjetas/cual-es-numero-de-tarjeta-de-credito.png.img.1600.1598289581557.png\" width=350>\n",
        "\n",
        "En este caso se va a considerar el número 4000 0012 3456 789**C** y se va a descifrar el dígito **C** que se utilizará en la verificación.\n",
        "\n",
        "Al igual que antes, tomando los números de derecha a izquierda, se multiplican por $2$ los números en posición par y si el resultado de esa multiplicación es mayor a $9$, se suman los números que conforman el resultado. Por ejemplo: $9 \\times 2 = 18$, así que se toma $1+8 = 9$.\n",
        "\n",
        "<br>\n",
        "\n",
        "Número: | 4 | 0 | 0 | 0 |  | 0 | 0 | 1 | 2 |  | 3 | 4 | 5 | 6 |  | 7 | 8 | 9 | **C**\n",
        ":--: | :--: | :--: | :--: | :--: | :--: | :--: | :--: | :--: | :--: | :--: | :--: | :--: | :--: | :--: | :--: | :--: | :--: | :--: | :--:\n",
        "Posición: | 16 | 15 | 14 | 13 | | 12 | 11 | 10 | 9 | | 8 | 7 | 6 | 5 | | 4 | 3 | 2 | 1\n",
        "¿Se multiplican por $2$? | Sí | No | Sí | No | | Sí | No | Sí | No | | Sí | No | Sí | No | | Sí | No | Sí | No \n",
        "Resultado<br>multiplicación: | 8 | 0 | 0 | 0 | | 0 | 0 | 2 | 2 | | 6 | 4 | 10<br>(1+0) | 6 | | 14<br>(1+4) | 8 | 18<br>(1+8) | **C** \n",
        "Suma de resultados<br>mayores a 9: | 8 | 0 | 0 | 0 | | 0 | 0 | 2 | 2 | | 6 | 4 | 1 | 6 | | 5 | 8 | 9 | **C** \n",
        "\n",
        "<br>\n",
        "\n",
        "Se suman todos los resultados del paso anterior, la ecuación resultante $x$ debe cumplir con $x \\equiv 0 \\mod 10$.\n",
        "\n",
        "En este caso,\n",
        "\n",
        "$$8 + 0 + 0 + 0 + 0 + 0 + 2 + 2 + 6 + 4 + 1 + 6 + 5 + 8 + 9 + C = 51 + C \\equiv 0 \\mod 10$$\n",
        "\n",
        "Solo si\n",
        "\n",
        "$$51 \\equiv 1 \\mod 10$$\n",
        "\n",
        "y\n",
        "\n",
        "$$C \\equiv -1 \\mod 10$$\n",
        "\n",
        "Como\n",
        "\n",
        "$$-1 \\equiv 9 \\mod 10$$\n",
        "\n",
        "Significa que\n",
        "\n",
        "$$C \\equiv 9 \\mod 10$$\n",
        "\n",
        "Entonces,\n",
        "\n",
        "$$C = 9$$\n",
        "\n",
        "Por lo tanto, el dígito de verificación de 4000 0012 3456 789**C** es **C** = 9"
      ]
    },
    {
      "cell_type": "markdown",
      "metadata": {
        "id": "8F44n9bNF2gJ"
      },
      "source": [
        "## Desarrollo práctico\n",
        "\n",
        "Los siguientes programas permiten verificar que un número de tarjeta de crédito ingresado sea válido o no, darle un dígito de verificación a un número dado y algunos números válidos de ejemplo de diferentes marcas de tarjetas de crédito populares. Se puede notar que los números generados pueden ser probablemente válidos pero de igual forma no se pueden usar para transacciones sin no se conoce la fecha de vencimiento y el código de seguridad o también llamado Valor de Verificación de Tarjeta (CVV).\n",
        "\n",
        "<h3>Frente</h3>\n",
        "<img src=\"https://www.bbva.com.co/content/dam/public-web/colombia/images/blog/anverso-tarjeta.png.img.768.1597841407261.png\" width=500>\n",
        "\n",
        "<h3>Revés</h3>\n",
        "<img src=\"https://www.bbva.com.co/content/dam/public-web/colombia/images/blog/reverso-tarjeta.png.img.768.1597841407299.png\" width=500>"
      ]
    },
    {
      "cell_type": "code",
      "metadata": {
        "id": "orToPZFRGw4K",
        "colab": {
          "base_uri": "https://localhost:8080/"
        },
        "outputId": "54e78663-9712-4538-a578-bd9788039e08"
      },
      "source": [
        "print(\"Verificador de tarjetas de crédito v3.0\")\n",
        "\n",
        "print(\"Autor: Gabriel Andres Anzola Tachak\")\n",
        "\n",
        "print(\"Escriba el número que desea verificar (puede incluir espacios o guiones)\")\n",
        "\n",
        "brands = [\n",
        "    \"American Express\",\n",
        "    \"Diners Club International\",\n",
        "    \"Diners Club United States & Canada\",\n",
        "    \"Discover Card\",\n",
        "    \"InterPayment\",\n",
        "    \"JCB\",\n",
        "    \"Maestro\",\n",
        "    \"Dankort\",\n",
        "    \"MasterCard\",\n",
        "    \"Visa\",\n",
        "    \"Visa Electron\",\n",
        "    \"UATP\"\n",
        "]\n",
        "\n",
        "keys = [\n",
        "    [\"34XXXX\", \"371XXX\"],\n",
        "    [\"300000-305999\", \"309XXX\", \"36XXXX\", \"380000-399999\"],\n",
        "    [\"54XXXX\", \"55XXXX\"],\n",
        "    [\"6011XX\", \"622126-622925\", \"644000-649999\", \"65XXXX\"],\n",
        "    [\"636000-639999\"],\n",
        "    [\"352800-358999\"],\n",
        "    [\"50XXXX\", \"560000-699999\"],\n",
        "    [\"5019XX\"],\n",
        "    [\"222100-272099\", \"510000-559999\"],\n",
        "    [\"4XXXXX\"],\n",
        "    [\"4026XX\", \"417500\", \"4405XX\", \"4508XX\", \"4844XX\", \"4913XX\", \"4917XX\"],\n",
        "    [\"1XXXXX\"]\n",
        "]\n",
        "\n",
        "def searchBrand(x : str):\n",
        "    if x == \"\":\n",
        "        return -1\n",
        "    b = -1\n",
        "    id = x[:6]\n",
        "    for i in range(len(keys)):\n",
        "        for j in range(len(keys[i])):\n",
        "            seed = keys[i][j]\n",
        "            seed = seed.replace(\"X\", \"\")\n",
        "            if (len(seed) <= 6):\n",
        "                if (seed == id[:len(seed)]):\n",
        "                    b = i\n",
        "            else:\n",
        "                rang = seed.split(\"-\")\n",
        "                if (int(rang[0]) <= int(id) and int(id) <= int(rang[1])):\n",
        "                    b = i\n",
        "    return b\n",
        "\n",
        "def isValidLuhn(x : str):\n",
        "    if x == \"\":\n",
        "        return False\n",
        "    a = []\n",
        "    for d in x:\n",
        "        a.append(int(d))\n",
        "    a.reverse()\n",
        "    for i in range(len(a)):\n",
        "        if i % 2 == 1:\n",
        "            r = 0\n",
        "            if (a[i]*2 > 9):\n",
        "                r = 1+((a[i]*2)-10)\n",
        "            else:\n",
        "                r = a[i]*2\n",
        "            a[i] = r\n",
        "    return sum(a) % 10 == 0\n",
        "\n",
        "n = input()\n",
        "n = ''.join(c if c in map(str,range(0,10)) else \"\" for c in n)\n",
        "if (isValidLuhn(n)):\n",
        "    print(\"El número ingresado es válido!\")\n",
        "    b = searchBrand(n)\n",
        "    print(\"Tarjeta:\",n[:4],n[4:8],n[8:12],n[12:])\n",
        "    if (b == -1):\n",
        "        print(\"Marca: Desconocida\")\n",
        "    else:\n",
        "        print(\"Marca:\",brands[b])\n",
        "else:\n",
        "    print(\"El número ingresado NO es válido!\")"
      ],
      "execution_count": 1,
      "outputs": [
        {
          "output_type": "stream",
          "name": "stdout",
          "text": [
            "Verificador de tarjetas de crédito v3.0\n",
            "Autor: Gabriel Andres Anzola Tachak\n",
            "Escriba el número que desea verificar (puede incluir espacios o guiones)\n",
            "El número ingresado es válido!\n",
            "Tarjeta: 5180 9200 0020 9445\n",
            "Marca: MasterCard\n"
          ]
        }
      ]
    },
    {
      "cell_type": "code",
      "metadata": {
        "colab": {
          "base_uri": "https://localhost:8080/"
        },
        "id": "NGKLOktbRDpw",
        "outputId": "b54599b8-2a5e-4156-d143-900cca44f41c"
      },
      "source": [
        "print(\"Creador de dígitos de verificación de tarjetas de crédito v3.0\")\n",
        "\n",
        "print(\"Autor: Gabriel Andres Anzola Tachak\")\n",
        "\n",
        "print(\"Escriba el número al que desea añadir un dígito de verificación al final (puede incluir espacios o guiones)\")\n",
        "\n",
        "brands = [\n",
        "    \"American Express\",\n",
        "    \"Diners Club International\",\n",
        "    \"Diners Club United States & Canada\",\n",
        "    \"Discover Card\",\n",
        "    \"InterPayment\",\n",
        "    \"JCB\",\n",
        "    \"Maestro\",\n",
        "    \"Dankort\",\n",
        "    \"MasterCard\",\n",
        "    \"Visa\",\n",
        "    \"Visa Electron\",\n",
        "    \"UATP\"\n",
        "]\n",
        "\n",
        "keys = [\n",
        "    [\"34XXXX\", \"371XXX\"],\n",
        "    [\"300000-305999\", \"309XXX\", \"36XXXX\", \"380000-399999\"],\n",
        "    [\"54XXXX\", \"55XXXX\"],\n",
        "    [\"6011XX\", \"622126-622925\", \"644000-649999\", \"65XXXX\"],\n",
        "    [\"636000-639999\"],\n",
        "    [\"352800-358999\"],\n",
        "    [\"50XXXX\", \"560000-699999\"],\n",
        "    [\"5019XX\"],\n",
        "    [\"222100-272099\", \"510000-559999\"],\n",
        "    [\"4XXXXX\"],\n",
        "    [\"4026XX\", \"417500\", \"4405XX\", \"4508XX\", \"4844XX\", \"4913XX\", \"4917XX\"],\n",
        "    [\"1XXXXX\"]\n",
        "]\n",
        "\n",
        "def searchBrand(x : str):\n",
        "    if x == \"\":\n",
        "        return -1\n",
        "    b = -1\n",
        "    id = x[:6]\n",
        "    for i in range(len(keys)):\n",
        "        for j in range(len(keys[i])):\n",
        "            seed = keys[i][j]\n",
        "            seed = seed.replace(\"X\", \"\")\n",
        "            if (len(seed) <= 6):\n",
        "                if (seed == id[:len(seed)]):\n",
        "                    b = i\n",
        "            else:\n",
        "                rang = seed.split(\"-\")\n",
        "                if (int(rang[0]) <= int(id) and int(id) <= int(rang[1])):\n",
        "                    b = i\n",
        "    return b\n",
        "\n",
        "def getCNumberLuhn(x : str):\n",
        "    a = []\n",
        "    for d in x:\n",
        "        a.append(int(d))\n",
        "    a.append(0)\n",
        "    a.reverse()\n",
        "    for i in range(len(a)):\n",
        "        if i % 2 == 1:\n",
        "            r = 0\n",
        "            if (a[i]*2 > 9):\n",
        "                r = 1+((a[i]*2)-10)\n",
        "            else:\n",
        "                r = a[i]*2\n",
        "            a[i] = r\n",
        "    return (10-sum(a)) % 10\n",
        "\n",
        "n = input()\n",
        "n = ''.join(c if c in map(str,range(0,10)) else \"\" for c in n)\n",
        "print(\"Tarjeta:\",n[:4],n[4:8],n[8:12],n[12:])\n",
        "d = getCNumberLuhn(n)\n",
        "print(\"El dígito de verificación es\",d)\n",
        "n = n + str(d)\n",
        "print(\"El número con dígito de verificación queda:\",n[:4],n[4:8],n[8:12],n[12:])\n",
        "b = searchBrand(n)\n",
        "if (b == -1):\n",
        "    print(\"Marca: Desconocida\")\n",
        "else:\n",
        "    print(\"Marca:\",brands[b])"
      ],
      "execution_count": 2,
      "outputs": [
        {
          "output_type": "stream",
          "name": "stdout",
          "text": [
            "Creador de dígitos de verificación de tarjetas de crédito v3.0\n",
            "Autor: Gabriel Andres Anzola Tachak\n",
            "Escriba el número al que desea añadir un dígito de verificación al final (puede incluir espacios o guiones)\n",
            "Tarjeta: 5180 9200 0020 944\n",
            "El dígito de verificación es 5\n",
            "El número con dígito de verificación queda: 5180 9200 0020 9445\n",
            "Marca: MasterCard\n"
          ]
        }
      ]
    },
    {
      "cell_type": "code",
      "metadata": {
        "colab": {
          "base_uri": "https://localhost:8080/"
        },
        "id": "n95oqS9tSJMh",
        "outputId": "0c5f08f0-cb5d-48c6-ca6a-421a0465a373"
      },
      "source": [
        "import random\n",
        "\n",
        "print(\"Generador de tarjetas de crédito v3.0\")\n",
        "\n",
        "print(\"Autor: Gabriel Andres Anzola Tachak\")\n",
        "\n",
        "print(\"Escoja el número acorde con la marca de la tarjeta que desea crear:\")\n",
        "\n",
        "brands = [\n",
        "    \"American Express\",\n",
        "    \"Diners Club International\",\n",
        "    \"Diners Club United States & Canada\",\n",
        "    \"Discover Card\",\n",
        "    \"InterPayment\",\n",
        "    \"JCB\",\n",
        "    \"Maestro\",\n",
        "    \"Dankort\",\n",
        "    \"MasterCard\",\n",
        "    \"Visa\",\n",
        "    \"Visa Electron\",\n",
        "    \"UATP\"\n",
        "]\n",
        "\n",
        "keys = [\n",
        "    [\"34XXXX\", \"371XXX\"],\n",
        "    [\"300000-305999\", \"309XXX\", \"36XXXX\", \"380000-399999\"],\n",
        "    [\"54XXXX\", \"55XXXX\"],\n",
        "    [\"6011XX\", \"622126-622925\", \"644000-649999\", \"65XXXX\"],\n",
        "    [\"636000-639999\"],\n",
        "    [\"352800-358999\"],\n",
        "    [\"50XXXX\", \"560000-699999\"],\n",
        "    [\"5019XX\"],\n",
        "    [\"222100-272099\", \"510000-559999\"],\n",
        "    [\"4XXXXX\"],\n",
        "    [\"4026XX\", \"417500\", \"4405XX\", \"4508XX\", \"4844XX\", \"4913XX\", \"4917XX\"],\n",
        "    [\"1XXXXX\"]\n",
        "]\n",
        "\n",
        "def getCNumberLuhn(x : str):\n",
        "    a = []\n",
        "    for d in x:\n",
        "        a.append(int(d))\n",
        "    a.append(0)\n",
        "    a.reverse()\n",
        "    for i in range(len(a)):\n",
        "        if i % 2 == 1:\n",
        "            r = 0\n",
        "            if (a[i]*2 > 9):\n",
        "                r = 1+((a[i]*2)-10)\n",
        "            else:\n",
        "                r = a[i]*2\n",
        "            a[i] = r\n",
        "    return (10-sum(a)) % 10\n",
        "\n",
        "def genNumberLuhn(n : int):\n",
        "    a = []\n",
        "    lseed = keys[n]\n",
        "    s = random.randint(0, len(lseed)-1)\n",
        "    seed = lseed[s]\n",
        "    if (len(seed) == 6):\n",
        "        for i in seed:\n",
        "            if (i != 'X'):\n",
        "                a.append(int(i))\n",
        "    else:\n",
        "        rang = seed.split(\"-\")\n",
        "        add = str(random.randint(int(rang[0]),int(rang[1])))\n",
        "        for i in add:\n",
        "            a.append(int(i))\n",
        "    while(len(a) != 15):\n",
        "        a.append(random.randint(0,9))\n",
        "    s = ''.join(map(str,a))\n",
        "    s = s + str(getCNumberLuhn(s))\n",
        "    return s\n",
        "\n",
        "for i in range(len(brands)):\n",
        "    print(i+1, brands[i])\n",
        "n = int(input())-1\n",
        "print(\"Marca:\",brands[n])\n",
        "print(\"¿Cuantas tarjetas quiere?\")\n",
        "t = int(input())\n",
        "for i in range(t):\n",
        "        s = genNumberLuhn(n)\n",
        "        print(\"Tarjeta #\",(i+1),\":\",s[:4],s[4:8],s[8:12],s[12:])"
      ],
      "execution_count": 3,
      "outputs": [
        {
          "output_type": "stream",
          "name": "stdout",
          "text": [
            "Generador de tarjetas de crédito v3.0\n",
            "Autor: Gabriel Andres Anzola Tachak\n",
            "Escoja el número acorde con la marca de la tarjeta que desea crear:\n",
            "1 American Express\n",
            "2 Diners Club International\n",
            "3 Diners Club United States & Canada\n",
            "4 Discover Card\n",
            "5 InterPayment\n",
            "6 JCB\n",
            "7 Maestro\n",
            "8 Dankort\n",
            "9 MasterCard\n",
            "10 Visa\n",
            "11 Visa Electron\n",
            "12 UATP\n",
            "Marca: MasterCard\n",
            "¿Cuantas tarjetas quiere?\n",
            "Tarjeta # 1 : 5227 7244 3766 2167\n",
            "Tarjeta # 2 : 2237 9588 6653 3839\n",
            "Tarjeta # 3 : 2417 6602 4666 1890\n",
            "Tarjeta # 4 : 5519 3499 9054 5398\n",
            "Tarjeta # 5 : 5347 0366 1275 3678\n"
          ]
        }
      ]
    },
    {
      "cell_type": "markdown",
      "metadata": {
        "id": "XQt91TSodMbT"
      },
      "source": [
        "El funcionamiento de cualquiera de los 3 programas anteriores se puede verificar en alguno de los sitios web que existen para verificar tarjetas de crédito. Con fines demostrativos se proporciona este <a href=\"https://www.vccgenerator.com/credit-card-validator/\">validador online</a> con el fin de hacer pruebas."
      ]
    },
    {
      "cell_type": "markdown",
      "metadata": {
        "id": "hzqQhlrWgVEQ"
      },
      "source": [
        "## Conclusiones\n",
        "\n",
        "*   La masificación de los métodos de pago digitales requirrió un sistema de seguridad más sofisticado para prevenir errores de digitación y dificultar a los estafadores delinquir con estos.\n",
        "\n",
        "*   El Algoritmo de Luhn fue una solución simple pero muy eficiente a este problema haciendo que el mismo número de la tarjeta fuera un código de seguridad.\n",
        "\n",
        "*   La importancia de los métodos de pago alternativos al efectivo requiere de un sistema de seguridad acorde a la época para evitar fraudes y suplantaciones.\n",
        "\n",
        "*   Debido al avance de las tecnologías, aunque el Algoritmo de Luhn sirve para verificar si un número ingresado no tiene errores en la digitación, para seguridad queda algo corto considerando el poder de procesamiento de las computadores actuales.\n",
        "\n",
        "*   Otras soluciones de pagos como la tokenización (generar contraseñas de un solo uso) pueden ser más seguras para los pagos en línea."
      ]
    },
    {
      "cell_type": "markdown",
      "metadata": {
        "id": "JIVMvKm-1iDV"
      },
      "source": [
        "## Referencias\n",
        "\n",
        "*   <a href=\"https://www.ansi.org/news-and-events/standards-news/all-news/2016/07/announcing-major-changes-to-the-issuer-identification-number-iin-standard-28\">ANSI - Announcing major changes to the issuer identification number (INN) standard</a>\n",
        "\n",
        "*   <a href=\"https://web.archive.org/web/20110303171028/http://umsbanking.com/pdfs/AmericanExpress_AcceptanceProcedures.pdf\">American Express\n",
        "Fraud Prevention\n",
        "Handbook</a>\n",
        "\n",
        "*   <a href=\"https://www.iso.org/standard/39698.html\">ISO/IEC 7812-1:2006\n",
        "Identification cards — Identification of issuers — Part 1: Numbering system</a>\n",
        "\n",
        "*   <a href=\"https://pdfpiw.uspto.gov/.piw?PageNum=0&docid=02950048&IDKey=86FD64BC74C1%0D%0A&HomeUrl=http%3A%2F%2Fpatft.uspto.gov%2Fnetacgi%2Fnph-Parser%3FSect1%3DPTO1%2526Sect2%3DHITOFF%2526d%3DPALL%2526p%3D1%2526u%3D%25252Fnetahtml%25252FPTO%25252Fsrchnum.htm%2526r%3D1%2526f%3DG%2526l%3D50%2526s1%3D2%2C950%2C048.PN.%2526OS%3DPN%2F2%2C950%2C048%2526RS%3DPN%2F2%2C950%2C048\">USPTO - Computer for Verifying Numbers, Hans P. Luhn, August 23, 1960.</a>\n",
        "\n",
        "*   <a href=\"https://www.investopedia.com/terms/l/luhn-algorithm.asp\">Investopedia - Algoritmo de Luhn</a>\n",
        "\n",
        "*   <a href=\"https://www.pcihispano.com/que-es-pci-dss/\">PCI Hispano - ¿Qué es PCI DSS?</a>\n",
        "\n",
        "*   <a href=\"https://researcher.watson.ibm.com/researcher/view_page.php?id=6990\">IBM - 16-Digit Credit Card Numbers</a>\n",
        "\n",
        "*   <a href=\"https://sistemas.tecnoderecho.com/bin-importante-saberlo-la-seguridad/\">Tecnoderecho - ¿Que es un BIN?</a>\n",
        "\n",
        "*   <a href=\"https://www.investopedia.com/terms/b/bank-identification-number.asp\">Investopedia - BIN</a>\n",
        "\n",
        "*   <a href=\"https://www.creditcards.com/credit-card-news/credit-card-appearance-1268/\">Credit Cards - What do the numbers on your credit card mean?</a>\n",
        "\n",
        "*   <a href=\"https://www.creditcards.com/credit-card-news/history-of-credit-cards/\">Credit Cards - History of credit cards</a>\n",
        "\n",
        "*   <a href=\"https://www.vccgenerator.com/credit-card-validator/\">Credit Card Validator</a>\n",
        "\n",
        "*   <a href=\"https://www.bbva.com.co/personas/blog/educacion-financiera/tarjetas/partes-de-una-tarjeta-de-credito.html\">BBVA - ¿Qué partes hay en una tarjeta de crédito?</a>\n",
        "\n",
        "*   <a href=\"https://web.archive.org/web/20090329064515/http://developer.authorize.net/faqs#7444\">Authorize.net - What's CCV?</a>\n",
        "\n",
        "*   <a href=\"https://ecommerce-platforms.com/es/glossary/bank-identification-number\">Ecommerce Platforms - ¿Qué es un número de identificación bancaria?</a>\n",
        "\n"
      ]
    }
  ]
}
